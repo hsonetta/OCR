{
 "cells": [
  {
   "cell_type": "code",
   "execution_count": 1,
   "id": "74fa20c1",
   "metadata": {
    "ExecuteTime": {
     "end_time": "2021-06-21T16:03:39.758715Z",
     "start_time": "2021-06-21T16:03:37.845938Z"
    }
   },
   "outputs": [],
   "source": [
    "import requests\n",
    "import base64\n",
    "import numpy as np\n",
    "from io import BytesIO\n",
    "from PIL import Image, ImageDraw, ImageFont\n",
    "import json\n",
    "import time\n",
    "import os\n",
    "import sys"
   ]
  },
  {
   "cell_type": "code",
   "execution_count": 2,
   "id": "cd38c0af",
   "metadata": {
    "ExecuteTime": {
     "end_time": "2021-06-21T16:03:39.773742Z",
     "start_time": "2021-06-21T16:03:39.761729Z"
    }
   },
   "outputs": [],
   "source": [
    "file_name = 'blackonwhite.jpg'\n",
    "with open(file_name, 'rb') as f:\n",
    "    image_bytes = f.read()"
   ]
  },
  {
   "cell_type": "code",
   "execution_count": 4,
   "id": "b76f4a87",
   "metadata": {
    "ExecuteTime": {
     "end_time": "2021-06-21T16:05:17.512729Z",
     "start_time": "2021-06-21T16:05:12.929620Z"
    }
   },
   "outputs": [
    {
     "name": "stdout",
     "output_type": "stream",
     "text": [
      "{'image': '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'}\n"
     ]
    },
    {
     "name": "stdout",
     "output_type": "stream",
     "text": [
      "<Response [200]>\n",
      "{'result': [[[[0, 0], [423, 0], [423, 60], [0, 60]], 'Black on White', 0.690256846066689]]}\n"
     ]
    }
   ],
   "source": [
    "lambda_url = \"http://localhost:8080/2015-03-31/functions/function/invocations\"\n",
    "\n",
    "# # simulate without API gateway\n",
    "# payload = {\"image\": \"trigger\"}\n",
    "# # simulate API gateway\n",
    "# payload = {\"body\": '{\"image\": \"trigger\"}'}\n",
    "\n",
    "# # actual image test, simulate without API gateway\n",
    "payload = {\"image\": base64.b64encode(image_bytes).decode()}\n",
    "# # actual image test, simulate API gateway\n",
    "# payload = {\"body\": '{\"image\": \"blackonwhite.jpg\"}'}\n",
    "print(payload)\n",
    "\n",
    "\n",
    "headers = {'Content-type': 'application/json'}\n",
    "start_time = time.time()\n",
    "response = requests.post(\n",
    "    lambda_url,\n",
    "    data=json.dumps(payload),\n",
    "    headers=headers\n",
    ")\n",
    "print(response)\n",
    "print(response.json())"
   ]
  },
  {
   "cell_type": "code",
   "execution_count": null,
   "id": "b4bcf722",
   "metadata": {},
   "outputs": [],
   "source": []
  }
 ],
 "metadata": {
  "kernelspec": {
   "display_name": "Python 3",
   "language": "python",
   "name": "python3"
  },
  "language_info": {
   "codemirror_mode": {
    "name": "ipython",
    "version": 3
   },
   "file_extension": ".py",
   "mimetype": "text/x-python",
   "name": "python",
   "nbconvert_exporter": "python",
   "pygments_lexer": "ipython3",
   "version": "3.8.8"
  }
 },
 "nbformat": 4,
 "nbformat_minor": 5
}
