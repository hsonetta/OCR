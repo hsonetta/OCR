{
 "cells": [
  {
   "cell_type": "code",
   "execution_count": 1,
   "id": "74fa20c1",
   "metadata": {
    "ExecuteTime": {
     "end_time": "2021-07-28T20:55:59.139175Z",
     "start_time": "2021-07-28T20:55:58.890296Z"
    }
   },
   "outputs": [],
   "source": [
    "import requests\n",
    "import base64\n",
    "import numpy as np\n",
    "from io import BytesIO\n",
    "from PIL import Image, ImageDraw, ImageFont\n",
    "import json\n",
    "import time\n",
    "import os\n",
    "import sys\n",
    "import ast"
   ]
  },
  {
   "cell_type": "code",
   "execution_count": 2,
   "id": "cd38c0af",
   "metadata": {
    "ExecuteTime": {
     "end_time": "2021-07-28T20:55:59.155041Z",
     "start_time": "2021-07-28T20:55:59.140968Z"
    }
   },
   "outputs": [],
   "source": [
    "file_name = 'blackonwhite.jpg'\n",
    "with open(file_name, 'rb') as f:\n",
    "    image_bytes = f.read()"
   ]
  },
  {
   "cell_type": "code",
   "execution_count": 3,
   "id": "b76f4a87",
   "metadata": {
    "ExecuteTime": {
     "end_time": "2021-07-28T20:56:02.285273Z",
     "start_time": "2021-07-28T20:55:59.238068Z"
    }
   },
   "outputs": [],
   "source": [
    "lambda_url = \"http://localhost:8080/2015-03-31/functions/function/invocations\"\n",
    "\n",
    "# # simulate without API gateway\n",
    "# payload = {\"image\": \"trigger\"}\n",
    "# # simulate API gateway\n",
    "# payload = {\"body\": '{\"image\": \"trigger\"}'}\n",
    "\n",
    "# # actual image test, simulate without API gateway\n",
    "payload = {\"image\": base64.b64encode(image_bytes).decode()}\n",
    "# # actual image test, simulate API gateway\n",
    "# payload = {\"body\": '{\"image\": \"' + base64.b64encode(image_bytes).decode() + '\"}'}\n",
    "\n",
    "headers = {'Content-type': 'application/json'}\n",
    "start_time = time.time()\n",
    "response = requests.post(\n",
    "    lambda_url,\n",
    "    data=json.dumps(payload),\n",
    "    headers=headers\n",
    ")\n",
    "response = response.json()"
   ]
  },
  {
   "cell_type": "code",
   "execution_count": 5,
   "id": "cb9c0f9b",
   "metadata": {
    "ExecuteTime": {
     "end_time": "2021-07-28T20:56:06.775953Z",
     "start_time": "2021-07-28T20:56:06.757992Z"
    }
   },
   "outputs": [
    {
     "name": "stdout",
     "output_type": "stream",
     "text": [
      "{'success': True, 'message': 'ocr recognition success', 'payload': {'text': 'Black on White', 'conf': 0.690256846066689}, 'inference_time_ms': 0.09705972671508789}\n"
     ]
    }
   ],
   "source": [
    "result = json.loads(response['body'])\n",
    "print(result)"
   ]
  }
 ],
 "metadata": {
  "kernelspec": {
   "display_name": "Python 3",
   "language": "python",
   "name": "python3"
  },
  "language_info": {
   "codemirror_mode": {
    "name": "ipython",
    "version": 3
   },
   "file_extension": ".py",
   "mimetype": "text/x-python",
   "name": "python",
   "nbconvert_exporter": "python",
   "pygments_lexer": "ipython3",
   "version": "3.8.8"
  }
 },
 "nbformat": 4,
 "nbformat_minor": 5
}
