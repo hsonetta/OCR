{
 "cells": [
  {
   "cell_type": "code",
   "execution_count": null,
   "id": "cb033e4f",
   "metadata": {},
   "outputs": [],
   "source": [
    "'''\n",
    "This notebook loads the easyocr module and converts the ocr model to inferentia compatible neuron model.\n",
    "'''"
   ]
  },
  {
   "cell_type": "code",
   "execution_count": 14,
   "id": "f09b44b7",
   "metadata": {
    "ExecuteTime": {
     "end_time": "2021-07-13T22:41:28.190163Z",
     "start_time": "2021-07-13T22:41:28.177166Z"
    },
    "scrolled": true
   },
   "outputs": [],
   "source": [
    "import cv2\n",
    "import torch\n",
    "import easyocr\n",
    "import torch_neuron\n",
    "from matplotlib import pyplot as plt\n",
    "from easyocr.detection import get_detector\n",
    "\n",
    "def save_model():\n",
    "    '''\n",
    "    This function initiates the OCR module. The original OCR model is converted to neuron model and saved to local directory.\n",
    "    '''\n",
    "    ocr_reader = easyocr.Reader(['en'], detector=True, recognizer=False, gpu=False, \n",
    "                                download_enabled=False, model_storage_directory='model_file', \n",
    "                                user_network_directory='user_network')\n",
    "    #load original model\n",
    "    model = get_detector(r'model_file/craft_mlt_25k.pth')\n",
    "    dummy_image = torch.zeros([1, 3, 224, 224], dtype=torch.float32)\n",
    "    #compile original model to neuron model and save it\n",
    "    neuron_model = torch.neuron.trace(model, example_inputs=[dummy_image])\n",
    "    neuron_model.save(\"ocr_neuron.pt\")\n",
    "    print('Model Saved')\n",
    "    return ocr_reader"
   ]
  },
  {
   "cell_type": "code",
   "execution_count": 15,
   "id": "f010b3f9",
   "metadata": {
    "ExecuteTime": {
     "end_time": "2021-07-13T22:41:28.662244Z",
     "start_time": "2021-07-13T22:41:28.651144Z"
    }
   },
   "outputs": [],
   "source": [
    "def infer_image(image, ocr_reader):\n",
    "    '''\n",
    "    This function calls the customized detect function and passes the neuron model to generate inference.\n",
    "    '''\n",
    "    #load neuron model\n",
    "    neuron_model = torch.jit.load('ocr_neuron.pt')\n",
    "    resized_image = cv2.resize(image, (224,224), interpolation = cv2.INTER_AREA)\n",
    "    #customized detect function that takes neuron model as input\n",
    "    result = ocr_reader.detect(resized_image, net=neuron_model)\n",
    "    return result"
   ]
  },
  {
   "cell_type": "code",
   "execution_count": 16,
   "id": "5da34efa",
   "metadata": {
    "ExecuteTime": {
     "end_time": "2021-07-13T22:41:29.008236Z",
     "start_time": "2021-07-13T22:41:28.997264Z"
    }
   },
   "outputs": [],
   "source": [
    "def plot_bbox(image, result):\n",
    "    '''\n",
    "    This functions plots bounding boxes around detected texts in an image.\n",
    "    '''\n",
    "    resized_image = cv2.resize(image, (224,224), interpolation = cv2.INTER_AREA)\n",
    "    for coord in result[0][0]:\n",
    "        image = cv2.rectangle(resized_image, (coord[0],coord[2]), (coord[1],coord[3]), (0, 255, 0), 2)\n",
    "    plt.imshow(resized_image)\n",
    "    plt.title('Detected Text')\n",
    "    plt.show()"
   ]
  },
  {
   "cell_type": "code",
   "execution_count": 17,
   "id": "b2a1834e",
   "metadata": {
    "ExecuteTime": {
     "end_time": "2021-07-13T22:41:33.024275Z",
     "start_time": "2021-07-13T22:41:29.403753Z"
    },
    "scrolled": true
   },
   "outputs": [
    {
     "name": "stderr",
     "output_type": "stream",
     "text": [
      "Using CPU. Note: This module is much faster with a GPU.\n"
     ]
    },
    {
     "ename": "AttributeError",
     "evalue": "module 'torch' has no attribute 'neuron'",
     "output_type": "error",
     "traceback": [
      "\u001b[1;31m---------------------------------------------------------------------------\u001b[0m",
      "\u001b[1;31mAttributeError\u001b[0m                            Traceback (most recent call last)",
      "\u001b[1;32m<ipython-input-17-853a4ce1f863>\u001b[0m in \u001b[0;36m<module>\u001b[1;34m\u001b[0m\n\u001b[0;32m      1\u001b[0m \u001b[1;31m#save the model\u001b[0m\u001b[1;33m\u001b[0m\u001b[1;33m\u001b[0m\u001b[1;33m\u001b[0m\u001b[0m\n\u001b[1;32m----> 2\u001b[1;33m \u001b[0mneuron_model\u001b[0m\u001b[1;33m,\u001b[0m \u001b[0mocr_reader\u001b[0m \u001b[1;33m=\u001b[0m \u001b[0msave_model\u001b[0m\u001b[1;33m(\u001b[0m\u001b[1;33m)\u001b[0m\u001b[1;33m\u001b[0m\u001b[1;33m\u001b[0m\u001b[0m\n\u001b[0m",
      "\u001b[1;32m<ipython-input-14-2b659aec67ac>\u001b[0m in \u001b[0;36msave_model\u001b[1;34m()\u001b[0m\n\u001b[0;32m     17\u001b[0m     \u001b[0mdummy_image\u001b[0m \u001b[1;33m=\u001b[0m \u001b[0mtorch\u001b[0m\u001b[1;33m.\u001b[0m\u001b[0mzeros\u001b[0m\u001b[1;33m(\u001b[0m\u001b[1;33m[\u001b[0m\u001b[1;36m1\u001b[0m\u001b[1;33m,\u001b[0m \u001b[1;36m3\u001b[0m\u001b[1;33m,\u001b[0m \u001b[1;36m224\u001b[0m\u001b[1;33m,\u001b[0m \u001b[1;36m224\u001b[0m\u001b[1;33m]\u001b[0m\u001b[1;33m,\u001b[0m \u001b[0mdtype\u001b[0m\u001b[1;33m=\u001b[0m\u001b[0mtorch\u001b[0m\u001b[1;33m.\u001b[0m\u001b[0mfloat32\u001b[0m\u001b[1;33m)\u001b[0m\u001b[1;33m\u001b[0m\u001b[1;33m\u001b[0m\u001b[0m\n\u001b[0;32m     18\u001b[0m     \u001b[1;31m#compile original model to neuron model and save it\u001b[0m\u001b[1;33m\u001b[0m\u001b[1;33m\u001b[0m\u001b[1;33m\u001b[0m\u001b[0m\n\u001b[1;32m---> 19\u001b[1;33m     \u001b[0mneuron_model\u001b[0m \u001b[1;33m=\u001b[0m \u001b[0mtorch\u001b[0m\u001b[1;33m.\u001b[0m\u001b[0mneuron\u001b[0m\u001b[1;33m.\u001b[0m\u001b[0mtrace\u001b[0m\u001b[1;33m(\u001b[0m\u001b[0mmodel\u001b[0m\u001b[1;33m,\u001b[0m \u001b[0mexample_inputs\u001b[0m\u001b[1;33m=\u001b[0m\u001b[1;33m[\u001b[0m\u001b[0mdummy_image\u001b[0m\u001b[1;33m]\u001b[0m\u001b[1;33m)\u001b[0m\u001b[1;33m\u001b[0m\u001b[1;33m\u001b[0m\u001b[0m\n\u001b[0m\u001b[0;32m     20\u001b[0m     \u001b[0mneuron_model\u001b[0m\u001b[1;33m.\u001b[0m\u001b[0msave\u001b[0m\u001b[1;33m(\u001b[0m\u001b[1;34m\"ocr_neuron.pt\"\u001b[0m\u001b[1;33m)\u001b[0m\u001b[1;33m\u001b[0m\u001b[1;33m\u001b[0m\u001b[0m\n\u001b[0;32m     21\u001b[0m     \u001b[0mprint\u001b[0m\u001b[1;33m(\u001b[0m\u001b[1;34m'Model Saved'\u001b[0m\u001b[1;33m)\u001b[0m\u001b[1;33m\u001b[0m\u001b[1;33m\u001b[0m\u001b[0m\n",
      "\u001b[1;31mAttributeError\u001b[0m: module 'torch' has no attribute 'neuron'"
     ]
    }
   ],
   "source": [
    "#save the model\n",
    "neuron_model, ocr_reader = save_model()"
   ]
  },
  {
   "cell_type": "code",
   "execution_count": null,
   "id": "06db7b20",
   "metadata": {
    "ExecuteTime": {
     "end_time": "2021-07-13T22:41:33.026278Z",
     "start_time": "2021-07-13T22:41:29.791Z"
    }
   },
   "outputs": [],
   "source": [
    "image = cv2.imread('images/chinese.jpg')\n",
    "#detect text\n",
    "result = infer_image(image, ocr_reader)\n",
    "#plot bounding box\n",
    "plot_bbox(image,result)"
   ]
  }
 ],
 "metadata": {
  "kernelspec": {
   "display_name": "Python 3",
   "language": "python",
   "name": "python3"
  },
  "language_info": {
   "codemirror_mode": {
    "name": "ipython",
    "version": 3
   },
   "file_extension": ".py",
   "mimetype": "text/x-python",
   "name": "python",
   "nbconvert_exporter": "python",
   "pygments_lexer": "ipython3",
   "version": "3.8.8"
  }
 },
 "nbformat": 4,
 "nbformat_minor": 5
}
