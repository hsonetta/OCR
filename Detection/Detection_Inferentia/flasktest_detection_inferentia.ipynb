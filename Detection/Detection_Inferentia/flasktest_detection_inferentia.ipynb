{
 "cells": [
  {
   "cell_type": "code",
   "execution_count": 4,
   "id": "0625abea",
   "metadata": {
    "ExecuteTime": {
     "end_time": "2021-07-05T20:36:54.658946Z",
     "start_time": "2021-07-05T20:36:54.567704Z"
    }
   },
   "outputs": [],
   "source": [
    "import requests\n",
    "import base64\n",
    "import json"
   ]
  },
  {
   "cell_type": "code",
   "execution_count": 5,
   "id": "68947d3f",
   "metadata": {
    "ExecuteTime": {
     "end_time": "2021-07-05T20:36:56.339611Z",
     "start_time": "2021-07-05T20:36:56.323601Z"
    }
   },
   "outputs": [],
   "source": [
    "file_name = 'images/english.jpg'\n",
    "with open(file_name, 'rb') as f:\n",
    "    image_bytes = f.read()"
   ]
  },
  {
   "cell_type": "code",
   "execution_count": 8,
   "id": "a500ae93",
   "metadata": {
    "scrolled": false
   },
   "outputs": [
    {
     "name": "stdout",
     "output_type": "stream",
     "text": [
      "{'result': [[[[55, 168, 15, 29], [80, 146, 48, 56], [80, 134, 60, 68], [61, 149, 79, 93], [62, 134, 94, 102], [78, 154, 114, 122], [78, 130, 126, 134], [62, 126, 152, 160], [82, 158, 174, 182], [82, 114, 186, 194], [147, 173, 199, 217]]], [[]]]}\n"
     ]
    }
   ],
   "source": [
    "url = 'http://localhost:8080/predict'\n",
    "\n",
    "# # actual image test, simulate without API gateway\n",
    "# payload = {\"image\": base64.b64encode(image_bytes).decode()}\n",
    "# # actual image test, simulate API gateway\n",
    "payload = {\"body\": '{\"image\": \"' + base64.b64encode(image_bytes).decode() + '\"}'}\n",
    "\n",
    "response = requests.post(\n",
    "    url,\n",
    "    data=json.dumps(payload)\n",
    ")\n",
    "print(response.json())"
   ]
  },
  {
   "cell_type": "code",
   "execution_count": null,
   "id": "14659aaa",
   "metadata": {},
   "outputs": [],
   "source": []
  }
 ],
 "metadata": {
  "kernelspec": {
   "display_name": "Python 3",
   "language": "python",
   "name": "python3"
  },
  "language_info": {
   "codemirror_mode": {
    "name": "ipython",
    "version": 3
   },
   "file_extension": ".py",
   "mimetype": "text/x-python",
   "name": "python",
   "nbconvert_exporter": "python",
   "pygments_lexer": "ipython3",
   "version": "3.6.9"
  }
 },
 "nbformat": 4,
 "nbformat_minor": 5
}
