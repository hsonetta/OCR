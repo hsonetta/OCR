{
 "cells": [
  {
   "cell_type": "code",
   "execution_count": 1,
   "id": "4eb28a49",
   "metadata": {},
   "outputs": [],
   "source": [
    "import requests\n",
    "import base64\n",
    "import json"
   ]
  },
  {
   "cell_type": "code",
   "execution_count": 30,
   "id": "9e403940",
   "metadata": {},
   "outputs": [],
   "source": [
    "file_name = 'images/english.jpg'\n",
    "with open(file_name, 'rb') as f:\n",
    "    image_bytes = f.read()"
   ]
  },
  {
   "cell_type": "code",
   "execution_count": 33,
   "id": "18256a68",
   "metadata": {},
   "outputs": [
    {
     "name": "stdout",
     "output_type": "stream",
     "text": [
      "{'result': [[[[55, 168, 15, 29], [80, 146, 48, 56], [80, 134, 60, 68], [61, 149, 79, 93], [62, 134, 94, 102], [78, 154, 114, 122], [78, 130, 126, 134], [62, 126, 152, 160], [82, 158, 174, 182], [82, 114, 186, 194], [147, 173, 199, 217]]], [[]]]}\n"
     ]
    }
   ],
   "source": [
    "url = 'http://localhost:5000/predict'\n",
    "\n",
    "payload = {\"image\": base64.b64encode(image_bytes).decode()}\n",
    "\n",
    "response = requests.post(\n",
    "    url,\n",
    "    data=json.dumps(payload)\n",
    ")\n",
    "print(response.json())"
   ]
  },
  {
   "cell_type": "code",
   "execution_count": null,
   "id": "0da28070",
   "metadata": {},
   "outputs": [],
   "source": []
  }
 ],
 "metadata": {
  "kernelspec": {
   "display_name": "Environment (conda_aws_neuron_pytorch_p36)",
   "language": "python",
   "name": "conda_aws_neuron_pytorch_p36"
  },
  "language_info": {
   "codemirror_mode": {
    "name": "ipython",
    "version": 3
   },
   "file_extension": ".py",
   "mimetype": "text/x-python",
   "name": "python",
   "nbconvert_exporter": "python",
   "pygments_lexer": "ipython3",
   "version": "3.6.13"
  }
 },
 "nbformat": 4,
 "nbformat_minor": 5
}
