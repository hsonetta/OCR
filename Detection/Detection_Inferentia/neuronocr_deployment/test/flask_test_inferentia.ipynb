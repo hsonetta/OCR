{
 "cells": [
  {
   "cell_type": "code",
   "execution_count": 4,
   "id": "0625abea",
   "metadata": {
    "ExecuteTime": {
     "end_time": "2021-07-05T20:36:54.658946Z",
     "start_time": "2021-07-05T20:36:54.567704Z"
    }
   },
   "outputs": [],
   "source": [
    "import requests\n",
    "import base64\n",
    "import json"
   ]
  },
  {
   "cell_type": "code",
   "execution_count": 5,
   "id": "68947d3f",
   "metadata": {
    "ExecuteTime": {
     "end_time": "2021-07-05T20:36:56.339611Z",
     "start_time": "2021-07-05T20:36:56.323601Z"
    }
   },
   "outputs": [],
   "source": [
    "img_dir = r'/home/ubuntu/ssl/Detection_Inferentia/neuronocr_deployment/images'\n",
    "\n",
    "image_path = img_dir + '/facebook.jpg'\n",
    "with open(image_path, 'rb') as f:\n",
    "    image_bytes = f.read()"
   ]
  },
  {
   "cell_type": "code",
   "execution_count": 10,
   "id": "a500ae93",
   "metadata": {
    "scrolled": false
   },
   "outputs": [
    {
     "name": "stdout",
     "output_type": "stream",
     "text": [
      "{'result': [[[[4, 222, 52, 178]]], [[]]]}\n"
     ]
    }
   ],
   "source": [
    "# url = 'http://localhost:5000/predict' #flask\n",
    "url = 'http://localhost:8080/predict' #docker\n",
    "\n",
    "# # actual image test, simulate without API gateway\n",
    "# payload = {\"image\": base64.b64encode(image_bytes).decode()}\n",
    "# # actual image test, simulate API gateway\n",
    "payload = {\"body\": '{\"image\": \"' + base64.b64encode(image_bytes).decode() + '\"}'}\n",
    "\n",
    "response = requests.post(\n",
    "    url,\n",
    "    data=json.dumps(payload)\n",
    ")\n",
    "print(response.json())"
   ]
  },
  {
   "cell_type": "code",
   "execution_count": null,
   "id": "acfa59b7",
   "metadata": {},
   "outputs": [],
   "source": []
  }
 ],
 "metadata": {
  "kernelspec": {
   "display_name": "Python 3",
   "language": "python",
   "name": "python3"
  },
  "language_info": {
   "codemirror_mode": {
    "name": "ipython",
    "version": 3
   },
   "file_extension": ".py",
   "mimetype": "text/x-python",
   "name": "python",
   "nbconvert_exporter": "python",
   "pygments_lexer": "ipython3",
   "version": "3.6.9"
  }
 },
 "nbformat": 4,
 "nbformat_minor": 5
}
