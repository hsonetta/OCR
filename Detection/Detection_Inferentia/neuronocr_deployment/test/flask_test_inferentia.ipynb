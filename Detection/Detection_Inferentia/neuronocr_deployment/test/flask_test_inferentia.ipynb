{
 "cells": [
  {
   "cell_type": "code",
   "execution_count": 1,
   "id": "0625abea",
   "metadata": {
    "ExecuteTime": {
     "end_time": "2021-08-09T20:25:41.741737Z",
     "start_time": "2021-08-09T20:25:41.621047Z"
    }
   },
   "outputs": [],
   "source": [
    "import requests\n",
    "import base64\n",
    "import json"
   ]
  },
  {
   "cell_type": "code",
   "execution_count": 83,
   "id": "68947d3f",
   "metadata": {
    "ExecuteTime": {
     "end_time": "2021-08-10T14:59:41.194081Z",
     "start_time": "2021-08-10T14:59:41.187117Z"
    }
   },
   "outputs": [],
   "source": [
    "img_dir = r'/home/ubuntu/ssl/Detection_Inferentia/neuronocr_deployment/images'\n",
    "img_dir = r'C:\\Users\\hsone\\Desktop\\SharpestMinds\\EasyOCR\\Detection\\Detection_Inferentia\\neuronocr_deployment\\images'\n",
    "\n",
    "image_path = img_dir + '/facebook.jpg'\n",
    "with open(image_path, 'rb') as f:\n",
    "    image_bytes = f.read()"
   ]
  },
  {
   "cell_type": "code",
   "execution_count": 84,
   "id": "a500ae93",
   "metadata": {
    "ExecuteTime": {
     "end_time": "2021-08-10T14:59:42.459709Z",
     "start_time": "2021-08-10T14:59:41.633732Z"
    },
    "scrolled": false
   },
   "outputs": [
    {
     "name": "stdout",
     "output_type": "stream",
     "text": [
      "{'body': '{\"message\": \"ocr detection success\", \"coordinates\": [[4, 222, 52, 178]], \"inference_time_sec\": 0.7566807270050049}', 'statusCode': 200}\n"
     ]
    }
   ],
   "source": [
    "url = 'http://localhost:5000/predict' #flask\n",
    "# url = 'http://localhost:8080/predict' #docker\n",
    "\n",
    "# # actual image test, simulate without API gateway\n",
    "payload = {\"image\": base64.b64encode(image_bytes).decode(),\n",
    "          \"model_type\":0}\n",
    "# # actual image test, simulate API gateway\n",
    "# payload = {\"body\": '{\"image\": \"' + base64.b64encode(image_bytes).decode() + '\"}',\n",
    "#      \"model_type\":0}\n",
    "\n",
    "response = requests.post(\n",
    "    url,\n",
    "    data=json.dumps(payload)\n",
    ")\n",
    "print(response.json())"
   ]
  },
  {
   "cell_type": "code",
   "execution_count": null,
   "id": "acfa59b7",
   "metadata": {},
   "outputs": [],
   "source": []
  }
 ],
 "metadata": {
  "kernelspec": {
   "display_name": "Python 3",
   "language": "python",
   "name": "python3"
  },
  "language_info": {
   "codemirror_mode": {
    "name": "ipython",
    "version": 3
   },
   "file_extension": ".py",
   "mimetype": "text/x-python",
   "name": "python",
   "nbconvert_exporter": "python",
   "pygments_lexer": "ipython3",
   "version": "3.8.8"
  }
 },
 "nbformat": 4,
 "nbformat_minor": 5
}
